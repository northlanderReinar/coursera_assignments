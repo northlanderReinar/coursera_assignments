{
 "cells": [
  {
   "cell_type": "markdown",
   "source": [
    "# Data Science Tools and Ecosystem"
   ],
   "metadata": {
    "collapsed": false
   },
   "id": "d371b72199473dfc"
  },
  {
   "cell_type": "markdown",
   "source": [
    "In this notebook, Data Science Tools and Ecosystem are summarized."
   ],
   "metadata": {
    "collapsed": false
   },
   "id": "9af91c77aac5c9fc"
  },
  {
   "cell_type": "markdown",
   "source": [
    "**Objectives**:\n",
    "- List languages used in data science;\n",
    "- List development libs used in data science;\n",
    "- List open-source tools used in data science;\n",
    "- Evaluate arithmetic expressions."
   ],
   "metadata": {
    "collapsed": false
   },
   "id": "503c1d620bfec1ae"
  },
  {
   "cell_type": "markdown",
   "source": [
    "Some of the popular languages that Data Scientists use are:\n",
    "\n",
    "1. Python;\n",
    "2. R;\n",
    "3. Scala;\n",
    "4. JavaScript;\n",
    "5. C++;\n",
    "6. Java."
   ],
   "metadata": {
    "collapsed": false
   },
   "id": "9d8aa651e3a52bda"
  },
  {
   "cell_type": "markdown",
   "source": [
    "Some of the commonly used libraries used by Data Scientists include:\n",
    "\n",
    "1. Pandas;\n",
    "2. NumPy;\n",
    "3. Scikit;\n",
    "4. Matplotlib."
   ],
   "metadata": {
    "collapsed": false
   },
   "id": "8257bc9fdb3125bf"
  },
  {
   "cell_type": "markdown",
   "source": [
    "|  Data Science Tools  |\n",
    "|:--------------------:|\n",
    "|        Spyder        |\n",
    "| Jupyter / JupyterLab |\n",
    "|  Anaconda Navigator  |"
   ],
   "metadata": {
    "collapsed": false
   },
   "id": "28c10ee3f74bbd6d"
  },
  {
   "cell_type": "markdown",
   "source": [
    "<h3>Below are a few examples of evaluating arithmetic expressions in Python</h3>"
   ],
   "metadata": {
    "collapsed": false
   },
   "id": "2f58169654adfe6f"
  },
  {
   "cell_type": "code",
   "outputs": [],
   "source": [
    "# This a simple arithmetic expression to mutiply then add integers\n",
    "(3*4)+5"
   ],
   "metadata": {
    "collapsed": false
   },
   "id": "5ba6550ab2e13725",
   "execution_count": null
  },
  {
   "cell_type": "code",
   "outputs": [],
   "source": [
    "# This will convert 200 minutes to hours by diving by 60\n",
    "200/60"
   ],
   "metadata": {
    "collapsed": false
   },
   "id": "75b8a9a51e900a12",
   "execution_count": null
  },
  {
   "cell_type": "markdown",
   "source": [
    "<h2>Author</h3>\n",
    "Nikita Yasinsky"
   ],
   "metadata": {
    "collapsed": false
   },
   "id": "321014a60f456b10"
  }
 ],
 "metadata": {
  "kernelspec": {
   "display_name": "Python 3",
   "language": "python",
   "name": "python3"
  },
  "language_info": {
   "codemirror_mode": {
    "name": "ipython",
    "version": 2
   },
   "file_extension": ".py",
   "mimetype": "text/x-python",
   "name": "python",
   "nbconvert_exporter": "python",
   "pygments_lexer": "ipython2",
   "version": "2.7.6"
  }
 },
 "nbformat": 4,
 "nbformat_minor": 5
}
